{
 "cells": [
  {
   "cell_type": "markdown",
   "metadata": {},
   "source": [
    "# BlackBox"
   ]
  },
  {
   "cell_type": "markdown",
   "metadata": {},
   "source": [
    "Our code was tested on Ubuntu 18.04 with CUDA 10.2, quad core system with NVIDIA GeForce RTX 2070 8 GB RAM GPU, and 48 GB system RAM.\n",
    "It needs at least 20 GB of free disk space.\n",
    "\n",
    "Run all code within the same directory containing `BlackBox-production.yml`, `DATA_TRAINING.RData` and `TRUE_DATA_RANKING.RData`.\n",
    "\n",
    "Install `conda`: https://docs.conda.io/projects/conda/en/latest/user-guide/install/#regular-installation\n",
    "\n",
    "Create conda environment with Python and R packages.\n",
    "\n",
    "```shell\n",
    "$ conda env create -f BlackBox-production.yml\n",
    "\n",
    "$ conda activate BlackBox-production\n",
    "```\n",
    "\n",
    "Convert data and generate random training masks.\n",
    "```shell\n",
    "$ python convert_data.py\n",
    "\n",
    "$ python generate_extra_masks.py  # takes up to 12 hours to complete\n",
    "\n",
    "$ python shift_bitmaps.py\n",
    "\n",
    "$ python downsample_bitmaps.py\n",
    "```\n",
    "\n",
    "Train models and evaluate their ensemble prediction (approximately 7 days to complete):\n",
    "```shell\n",
    "$ bash train_models.sh  # BASH script training an ensemble of 155 models, each with specific hyperparameters\n",
    "\n",
    "$ python make_models_database.py -i Model\n",
    "\n",
    "$ Rscript preprocesing_TRUE_DATA_RANKING.R  # creates file true.observations.rda with data used in score calculation\n",
    "\n",
    "$ python make_prediction.py -i Model -o Model_score --number_of_predictions=20 --prediction_suffix=SampleA\n",
    "\n",
    "$ python make_prediction.py -i Model -o Model_ensemble_score --only_score=20:SampleA --global_ensemble\n",
    "```\n",
    "\n",
    "Final prediction is saved in `./predictions/`. Calculated score is saved in the last line of `./Model_ensemble_score_20_SampleA.csv`."
   ]
  },
  {
   "cell_type": "markdown",
   "metadata": {},
   "source": [
    "# Comment on reproducibility\n",
    "In our code we use the following Python libraries which rely on different random number generators: `random` from stdlib, `numpy`, `pytorch`, and `fastai`. Since at least `pytorch` [does not guarantee reproducibility](https://pytorch.org/docs/stable/notes/randomness.html) between different platforms, CPU/GPU runs, and library versions even with a fixed random seed, we have opted not to seed any of the random number generators in our solution. This means a certain amount of variation in final result is expected between runs."
   ]
  }
 ],
 "metadata": {
  "kernelspec": {
   "display_name": "Python 3",
   "language": "python",
   "name": "python3"
  },
  "language_info": {
   "codemirror_mode": {
    "name": "ipython",
    "version": 3
   },
   "file_extension": ".py",
   "mimetype": "text/x-python",
   "name": "python",
   "nbconvert_exporter": "python",
   "pygments_lexer": "ipython3",
   "version": "3.7.3"
  }
 },
 "nbformat": 4,
 "nbformat_minor": 2
}
